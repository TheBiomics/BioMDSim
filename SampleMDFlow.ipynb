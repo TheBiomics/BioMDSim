# Get protein.pdb - Exclude HETATM and ANISOU records
# Convert lig.pdbqt to lig.mol2 using UCSF Chimera - AddH to add hydrogen under structure editing
# Follow https://www.swissparam.ch/SwissParam_gromacs_tutorial.html

!export path_to_gmx = /usr/local/gromacs/bin/gmx

!path_to_gmx pdb2gmx -f protein.pdb -water tip3p -ignh -o conf.pdb -nochargegrp

# Merge the protein and ligand coordinates. Insert the ATOM lines from the ligand.pdb into the conf.pdb file after the ter record. Atoms will be automatically renumbered in the next step.

!path_to_gmx editconf -f conf.pdb -o boxed.pdb -c -d 1.2 -bt octahedron

!path_to_gmx solvate -cp boxed.pdb -cs spc216.gro -p topol.top -o solv.gro --quiet
!path_to_gmx genion -s ions.tpr -o solv_ions.gro -neutral -p topol.top --quiet
!path_to_gmx grompp -f em.mdp -c solv_ions.gro -p topol.top -o em.tpr --quiet
!path_to_gmx mdrun -v -deffnm em --quiet

!path_to_gmx make_ndx -f em.gro -o index.ndx
!path_to_gmx grompp -f nvt.mdp -c em.gro -r em.gro -p topol.top -n index.ndx -o nvt.tpr --quiet
!path_to_gmx mdrun -deffnm nvt -v --quiet

!path_to_gmx grompp -f npt.mdp -c nvt.gro -t nvt.cpt -r nvt.gro -p topol.top -n index.ndx -o npt.tpr
!path_to_gmx mdrun -deffnm npt -v
!path_to_gmx grompp -f md.mdp -c npt.gro -t npt.cpt -p topol.top -n index.ndx -o md_s4_final_run.tpr
!path_to_gmx mdrun -deffnm md_s4_final_run -nb gpu -v

# if path.exists('md_s4_final_run.tpr'):
#   !path_to_gmx mdrun -deffnm md_s4_final_run -cpi md_s4_final_run -v --quiet  -nb gpu
