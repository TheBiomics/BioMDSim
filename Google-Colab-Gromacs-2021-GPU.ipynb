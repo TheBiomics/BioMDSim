"""
Installing Gromacs 2021 GPU along with upgrading CMAKE Commands
"""

import sys

# Install Normal build of gromacs on google colab - Ubuntu 
# !dpkg -s "gromacs" > /dev/null 2>&1 || apt install "gromacs"
import urllib # Fetch online files
import os.path
from os import path

# from google.colab import drive
# drive.mount('/content/drive')

# Install Latest Version of CMAKE
# !apt remove cmake
# !pip install cmake --upgrade
# !cmake --version


%cd /content/drive/MyDrive/projects/
# %cd /content/drive/MyDrive/

if path.exists('/content/drive/MyDrive/projects/gromacs-2021.tar.gz'):
  print('Gromacs2021 zip is already downloaded!')
else:
  !wget https://ftp.gromacs.org/gromacs/gromacs-2021.tar.gz
  print('Downloaded Gromacs2021')


# Install GPU Build of MDRUN only 

!tar xfz gromacs-2021.tar.gz --directory /content
%cd /content/gromacs-2021/
!mkdir build
%cd /content/gromacs-2021/build
!pwd
!cmake .. -DGMX_BUILD_OWN_FFTW=ON -DREGRESSIONTEST_DOWNLOAD=off -DGMX_GPU=CUDA
# !cmake .. -DGMX_BUILD_OWN_FFTW=ON -DREGRESSIONTEST_DOWNLOAD=off -DGMX_BUILD_MDRUN_ONLY=on  -DGMX_GPU=on
# !cmake .. -DGMX_BUILD_OWN_FFTW=ON -DREGRESSIONTEST_DOWNLOAD=off -DGMX_BUILD_MDRUN_ONLY=on  -DGMX_GPU=on -DGMX_BUILD_UNITTESTS=OFF
# !cmake .. -DGMX_BUILD_OWN_FFTW=ON -DREGRESSIONTEST_DOWNLOAD=ON -DGMX_GPU=on -DGMX_USE_OPENCL=on
!make
!make check
!sudo make install
# Use the below instead of gmx mdrun for mdrun only build
# !/usr/local/gromacs/bin/mdrun
# !/usr/local/gromacs/bin/gmx
