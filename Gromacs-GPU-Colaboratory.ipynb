"""
Installing and using Gromacs in Python Notebook environment with Hybrid Operations
Using google colab

"""

import sys

# Install Normal build of gromacs on google colab - Ubuntu 
!dpkg -s "gromacs" > /dev/null 2>&1 || apt install "gromacs"
import urllib # Fetch online files
import os.path
from os import path

from google.colab import drive
drive.mount('/content/drive')

# %cd /content/drive/MyDrive/projects/
%cd /content/drive/MyDrive/

if path.exists('/content/drive/MyDrive/projects/gromacs-2020.tar.gz'):
  print('Gromacs2020 zip is already downloaded!')
else:
  !wget http://ftp.gromacs.org/pub/gromacs/gromacs-2020.tar.gz


# Install GPU Build of MDRUN only 

!tar xfz gromacs-2020.tar.gz --directory /content
%cd /content/gromacs-2020/
!mkdir build
%cd /content/gromacs-2020/build
!pwd
!cmake .. -DGMX_BUILD_OWN_FFTW=ON -DREGRESSIONTEST_DOWNLOAD=off -DGMX_BUILD_MDRUN_ONLY=on  -DGMX_GPU=on
# !cmake .. -DGMX_BUILD_OWN_FFTW=ON -DREGRESSIONTEST_DOWNLOAD=off -DGMX_BUILD_MDRUN_ONLY=on  -DGMX_GPU=on -DGMX_BUILD_UNITTESTS=OFF
# !cmake .. -DGMX_BUILD_OWN_FFTW=ON -DREGRESSIONTEST_DOWNLOAD=ON -DGMX_GPU=on -DGMX_USE_OPENCL=on
!make
!make check
!sudo make install
# Use the below instead of gmx mdrun
# !/usr/local/gromacs/bin/mdrun

print("Start Time")
!date
%cd /content/drive/MyDrive/Gromacs/
if path.exists('RUN_FILE_IDENTIFIER.tpr'):
  # Resume the MDRUN
  !/usr/local/gromacs/bin/mdrun -deffnm RUN_FILE_IDENTIFIER -v -cpi RUN_FILE_IDENTIFIER --quiet -nb gpu
  pass
else:
  !gmx grompp -f md.mdp -c npt.gro -t npt.cpt -p topol.top -n index.ndx -o RUN_FILE_IDENTIFIER.tpr --quiet
  !/usr/local/gromacs/bin/mdrun -deffnm RUN_FILE_IDENTIFIER -v --quiet -nb gpu


